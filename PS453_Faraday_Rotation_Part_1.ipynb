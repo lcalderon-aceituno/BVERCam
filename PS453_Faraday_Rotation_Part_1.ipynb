{
  "nbformat": 4,
  "nbformat_minor": 0,
  "metadata": {
    "colab": {
      "name": "PS453-Faraday Rotation - Part 1.ipynb",
      "provenance": []
    },
    "kernelspec": {
      "name": "python3",
      "display_name": "Python 3"
    }
  },
  "cells": [
    {
      "cell_type": "markdown",
      "metadata": {
        "id": "-S0i0eGfDLcM"
      },
      "source": [
        "# Equipment and materials\n",
        "| Description | Manufacturer | Model | ID or SN |\n",
        "| ----------- | ------------ | ----- | -------- |\n",
        "| Faraday Rotation apparatus | TeachSpin | FR1-A | FR300 |\n",
        "| Hall effect sensor | TeachSpin | fill in | fill in |\n",
        "| Audio amplifier | TeachSpin | fill in | fill in |\n",
        "| DC power supply (up to 10 A) | BK Precision |  | fill in |\n",
        "| digital multimeter | Fluke | 179 | 58870154 |\n",
        "| Banana plug cables (several) | N/A | N/A | N/A |\n",
        "| SF-59 glass rod, 5 mm diam., 100 mm length | TeachSpin | N/A | N/A |\n",
        "\n",
        "_You should replace the **fill in** entries with appropriate info._"
      ]
    },
    {
      "cell_type": "markdown",
      "metadata": {
        "id": "YxHUQbX8EyYS"
      },
      "source": [
        "# Install and import libraries"
      ]
    },
    {
      "cell_type": "code",
      "metadata": {
        "id": "OtIBoSUoC8Fg"
      },
      "source": [
        "!pip install whit-phys-util"
      ],
      "execution_count": null,
      "outputs": []
    },
    {
      "cell_type": "code",
      "metadata": {
        "id": "HFx6CDkKE3Wl"
      },
      "source": [
        "import numpy as np\n",
        "import pandas as pd\n",
        "import matplotlib.pyplot as plt\n",
        "import whit_phys_util as buc"
      ],
      "execution_count": null,
      "outputs": []
    },
    {
      "cell_type": "markdown",
      "metadata": {
        "id": "yV7ou6BqE6dg"
      },
      "source": [
        "# Connect to GitHub"
      ]
    },
    {
      "cell_type": "code",
      "metadata": {
        "id": "qdN6HY39E_Ds"
      },
      "source": [
        "repo = buc.local_repository(\"replace me\")"
      ],
      "execution_count": null,
      "outputs": []
    },
    {
      "cell_type": "markdown",
      "metadata": {
        "id": "-OVi35bOFIGQ"
      },
      "source": [
        "# Hall effect sensor calibration"
      ]
    },
    {
      "cell_type": "code",
      "metadata": {
        "id": "8J3r9J7aFLSP"
      },
      "source": [],
      "execution_count": null,
      "outputs": []
    },
    {
      "cell_type": "markdown",
      "metadata": {
        "id": "ltnq3aTlFL-5"
      },
      "source": [
        "# Spatial dependence of magnetic field in solenoid"
      ]
    },
    {
      "cell_type": "code",
      "metadata": {
        "id": "3K4ksGlgFYYQ"
      },
      "source": [],
      "execution_count": null,
      "outputs": []
    },
    {
      "cell_type": "markdown",
      "metadata": {
        "id": "thji1rmeFZIu"
      },
      "source": [
        "# Malus's law verification"
      ]
    },
    {
      "cell_type": "code",
      "metadata": {
        "id": "bTqPyu19Fch4"
      },
      "source": [],
      "execution_count": null,
      "outputs": []
    },
    {
      "cell_type": "markdown",
      "metadata": {
        "id": "WZRGomA2Fd94"
      },
      "source": [
        "# Determining Verdet constant with DC extinction method"
      ]
    },
    {
      "cell_type": "code",
      "metadata": {
        "id": "enswMWWAGH5y"
      },
      "source": [],
      "execution_count": null,
      "outputs": []
    },
    {
      "cell_type": "markdown",
      "metadata": {
        "id": "gZAs4mprGU6j"
      },
      "source": [
        "# Determining Verdet constant with DC fixed intensity method"
      ]
    },
    {
      "cell_type": "code",
      "metadata": {
        "id": "omb4SxK9GaQI"
      },
      "source": [],
      "execution_count": null,
      "outputs": []
    }
  ]
}