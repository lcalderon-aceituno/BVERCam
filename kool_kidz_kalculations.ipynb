{
  "nbformat": 4,
  "nbformat_minor": 0,
  "metadata": {
    "colab": {
      "name": "kool kidz kalculations.ipynb",
      "provenance": [],
      "collapsed_sections": [],
      "authorship_tag": "ABX9TyPcpoReMa1iPFQGFr9zXqRO",
      "include_colab_link": true
    },
    "kernelspec": {
      "name": "python3",
      "display_name": "Python 3"
    },
    "language_info": {
      "name": "python"
    }
  },
  "cells": [
    {
      "cell_type": "markdown",
      "metadata": {
        "id": "view-in-github",
        "colab_type": "text"
      },
      "source": [
        "<a href=\"https://colab.research.google.com/github/lcalderon-aceituno/BVERCam/blob/master/kool_kidz_kalculations.ipynb\" target=\"_parent\"><img src=\"https://colab.research.google.com/assets/colab-badge.svg\" alt=\"Open In Colab\"/></a>"
      ]
    },
    {
      "cell_type": "code",
      "execution_count": 1,
      "metadata": {
        "id": "YR_ub5xdcCIv"
      },
      "outputs": [],
      "source": [
        "from sympy import *\n",
        "from sympy.plotting import plot\n",
        "from sympy import symbols "
      ]
    },
    {
      "cell_type": "code",
      "source": [
        "from sympy.vector import CoordSys3D\n",
        "world = CoordSys3D('world')\n",
        "i = world.i\n",
        "j = world.j\n",
        "k = world.k"
      ],
      "metadata": {
        "id": "_RHGR-QwcD3a"
      },
      "execution_count": 2,
      "outputs": []
    },
    {
      "cell_type": "code",
      "source": [
        "t,r,w, g = symbols('t r omega g')"
      ],
      "metadata": {
        "id": "_UGc3aWDdIIW"
      },
      "execution_count": 36,
      "outputs": []
    },
    {
      "cell_type": "code",
      "source": [
        "phi1 = Function('phi1')(t)\n",
        "phi2 = Function('phi2')(t)\n",
        "r1 = Function('r1')(t)\n",
        "r2 = Function('r2')(t)\n",
        "R = Function('R')(t)\n",
        "l1 = Function('l1')(t)\n",
        "l2 = Function('l2')(t)"
      ],
      "metadata": {
        "id": "hgTKtZrQcsik"
      },
      "execution_count": 6,
      "outputs": []
    },
    {
      "cell_type": "code",
      "source": [
        "R = r*(cos(w*t)*i+sin(w*t)*j)\n",
        "R"
      ],
      "metadata": {
        "colab": {
          "base_uri": "https://localhost:8080/",
          "height": 39
        },
        "id": "tayEk80OclKZ",
        "outputId": "7adad575-dff7-4502-8014-282a772f47f0"
      },
      "execution_count": 14,
      "outputs": [
        {
          "output_type": "execute_result",
          "data": {
            "text/plain": [
              "(r*cos(omega*t))*world.i + (r*sin(omega*t))*world.j"
            ],
            "text/latex": "$\\displaystyle (r \\cos{\\left(\\omega t \\right)})\\mathbf{\\hat{i}_{world}} + (r \\sin{\\left(\\omega t \\right)})\\mathbf{\\hat{j}_{world}}$"
          },
          "metadata": {},
          "execution_count": 14
        }
      ]
    },
    {
      "cell_type": "code",
      "source": [
        "r1 = R + l1*(sin(phi1)*i-cos(phi1)*j)\n",
        "r1"
      ],
      "metadata": {
        "colab": {
          "base_uri": "https://localhost:8080/",
          "height": 39
        },
        "id": "9E2lxmpMdjEW",
        "outputId": "a5d562f6-94c1-48a8-c5b3-62e540f861ff"
      },
      "execution_count": 15,
      "outputs": [
        {
          "output_type": "execute_result",
          "data": {
            "text/plain": [
              "(r*cos(omega*t) + l1(t)*sin(phi1(t)))*world.i + (r*sin(omega*t) - l1(t)*cos(phi1(t)))*world.j"
            ],
            "text/latex": "$\\displaystyle (r \\cos{\\left(\\omega t \\right)} + \\operatorname{l_{1}}{\\left(t \\right)} \\sin{\\left(\\phi_{1}{\\left(t \\right)} \\right)})\\mathbf{\\hat{i}_{world}} + (r \\sin{\\left(\\omega t \\right)} - \\operatorname{l_{1}}{\\left(t \\right)} \\cos{\\left(\\phi_{1}{\\left(t \\right)} \\right)})\\mathbf{\\hat{j}_{world}}$"
          },
          "metadata": {},
          "execution_count": 15
        }
      ]
    },
    {
      "cell_type": "code",
      "source": [
        "r2 = r1 + l2*(sin(phi2)*i-cos(phi2)*j)\n",
        "r2"
      ],
      "metadata": {
        "colab": {
          "base_uri": "https://localhost:8080/",
          "height": 39
        },
        "id": "kFl1qcOOdrET",
        "outputId": "696fde4e-a7e8-426e-b574-37c9137df28d"
      },
      "execution_count": 16,
      "outputs": [
        {
          "output_type": "execute_result",
          "data": {
            "text/plain": [
              "(r*cos(omega*t) + l1(t)*sin(phi1(t)) + l2(t)*sin(phi2(t)))*world.i + (r*sin(omega*t) - l1(t)*cos(phi1(t)) - l2(t)*cos(phi2(t)))*world.j"
            ],
            "text/latex": "$\\displaystyle (r \\cos{\\left(\\omega t \\right)} + \\operatorname{l_{1}}{\\left(t \\right)} \\sin{\\left(\\phi_{1}{\\left(t \\right)} \\right)} + \\operatorname{l_{2}}{\\left(t \\right)} \\sin{\\left(\\phi_{2}{\\left(t \\right)} \\right)})\\mathbf{\\hat{i}_{world}} + (r \\sin{\\left(\\omega t \\right)} - \\operatorname{l_{1}}{\\left(t \\right)} \\cos{\\left(\\phi_{1}{\\left(t \\right)} \\right)} - \\operatorname{l_{2}}{\\left(t \\right)} \\cos{\\left(\\phi_{2}{\\left(t \\right)} \\right)})\\mathbf{\\hat{j}_{world}}$"
          },
          "metadata": {},
          "execution_count": 16
        }
      ]
    },
    {
      "cell_type": "code",
      "source": [
        "dr1 = diff(r1, t)\n",
        "dr2 = diff(r2, t)\n",
        "r1_dot_squared = dr1.dot(dr1) # r1 dot squared (dot product)\n",
        "r2_dot_squared = dr2.dot(dr2) # r2 dot squared (dot product)"
      ],
      "metadata": {
        "id": "o48Xu-Jqd0T_"
      },
      "execution_count": 23,
      "outputs": []
    },
    {
      "cell_type": "code",
      "source": [
        "M1, M2, m1, m2= symbols('M1 M2 m1 m2')"
      ],
      "metadata": {
        "id": "iIB2Mhl2ejXY"
      },
      "execution_count": 25,
      "outputs": []
    },
    {
      "cell_type": "code",
      "source": [
        "massterm1 = m1 + M1/3\n",
        "massterm2 = m2 + M2/3"
      ],
      "metadata": {
        "id": "PXHT8AwHeic_"
      },
      "execution_count": 28,
      "outputs": []
    },
    {
      "cell_type": "code",
      "source": [
        "u1, u2 = symbols('u1, u2')"
      ],
      "metadata": {
        "id": "xFukNVG3jKN9"
      },
      "execution_count": 46,
      "outputs": []
    },
    {
      "cell_type": "code",
      "source": [
        "T = 1/2*u1*r1_dot_squared + 1/2*u2*r2_dot_squared"
      ],
      "metadata": {
        "id": "wMaEDHBYd46W"
      },
      "execution_count": 47,
      "outputs": []
    },
    {
      "cell_type": "code",
      "source": [
        "U = u1*g*r1.coeff(j) + u2*g*r2.coeff(j)"
      ],
      "metadata": {
        "id": "rmzxTMHmd_Zx"
      },
      "execution_count": 48,
      "outputs": []
    },
    {
      "cell_type": "markdown",
      "source": [
        "Here is our Lagrangian:"
      ],
      "metadata": {
        "id": "YUpmFLsdnmA1"
      }
    },
    {
      "cell_type": "code",
      "source": [
        "L = T + U # define lagrangian"
      ],
      "metadata": {
        "id": "LHRAAf7cgiQ5"
      },
      "execution_count": 49,
      "outputs": []
    },
    {
      "cell_type": "code",
      "source": [
        "L.simplify()"
      ],
      "metadata": {
        "colab": {
          "base_uri": "https://localhost:8080/",
          "height": 160
        },
        "id": "nVeeSvVIglNE",
        "outputId": "41a8e910-9888-4796-a95f-7fb339476ea3"
      },
      "execution_count": 118,
      "outputs": [
        {
          "output_type": "execute_result",
          "data": {
            "text/plain": [
              "g*u1*(r*sin(omega*t) - l1(t)*cos(phi1(t))) - g*u2*(-r*sin(omega*t) + l1(t)*cos(phi1(t)) + l2(t)*cos(phi2(t))) + 0.5*u1*(omega**2*r**2 - 2*omega*r*l1(t)*sin(omega*t - phi1(t))*Derivative(phi1(t), t) - 2*omega*r*cos(omega*t - phi1(t))*Derivative(l1(t), t) + l1(t)**2*Derivative(phi1(t), t)**2 + Derivative(l1(t), t)**2) + 0.5*u2*(omega**2*r**2 - 2*omega*r*l1(t)*sin(omega*t - phi1(t))*Derivative(phi1(t), t) - 2*omega*r*l2(t)*sin(omega*t - phi2(t))*Derivative(phi2(t), t) - 2*omega*r*cos(omega*t - phi1(t))*Derivative(l1(t), t) - 2*omega*r*cos(omega*t - phi2(t))*Derivative(l2(t), t) + l1(t)**2*Derivative(phi1(t), t)**2 + 2*l1(t)*l2(t)*cos(phi1(t) - phi2(t))*Derivative(phi1(t), t)*Derivative(phi2(t), t) - 2*l1(t)*sin(phi1(t) - phi2(t))*Derivative(l2(t), t)*Derivative(phi1(t), t) + l2(t)**2*Derivative(phi2(t), t)**2 + 2*l2(t)*sin(phi1(t) - phi2(t))*Derivative(l1(t), t)*Derivative(phi2(t), t) + 2*cos(phi1(t) - phi2(t))*Derivative(l1(t), t)*Derivative(l2(t), t) + Derivative(l1(t), t)**2 + Derivative(l2(t), t)**2)"
            ],
            "text/latex": "$\\displaystyle g u_{1} \\left(r \\sin{\\left(\\omega t \\right)} - \\operatorname{l_{1}}{\\left(t \\right)} \\cos{\\left(\\phi_{1}{\\left(t \\right)} \\right)}\\right) - g u_{2} \\left(- r \\sin{\\left(\\omega t \\right)} + \\operatorname{l_{1}}{\\left(t \\right)} \\cos{\\left(\\phi_{1}{\\left(t \\right)} \\right)} + \\operatorname{l_{2}}{\\left(t \\right)} \\cos{\\left(\\phi_{2}{\\left(t \\right)} \\right)}\\right) + 0.5 u_{1} \\left(\\omega^{2} r^{2} - 2 \\omega r \\operatorname{l_{1}}{\\left(t \\right)} \\sin{\\left(\\omega t - \\phi_{1}{\\left(t \\right)} \\right)} \\frac{d}{d t} \\phi_{1}{\\left(t \\right)} - 2 \\omega r \\cos{\\left(\\omega t - \\phi_{1}{\\left(t \\right)} \\right)} \\frac{d}{d t} \\operatorname{l_{1}}{\\left(t \\right)} + \\operatorname{l_{1}}^{2}{\\left(t \\right)} \\left(\\frac{d}{d t} \\phi_{1}{\\left(t \\right)}\\right)^{2} + \\left(\\frac{d}{d t} \\operatorname{l_{1}}{\\left(t \\right)}\\right)^{2}\\right) + 0.5 u_{2} \\left(\\omega^{2} r^{2} - 2 \\omega r \\operatorname{l_{1}}{\\left(t \\right)} \\sin{\\left(\\omega t - \\phi_{1}{\\left(t \\right)} \\right)} \\frac{d}{d t} \\phi_{1}{\\left(t \\right)} - 2 \\omega r \\operatorname{l_{2}}{\\left(t \\right)} \\sin{\\left(\\omega t - \\phi_{2}{\\left(t \\right)} \\right)} \\frac{d}{d t} \\phi_{2}{\\left(t \\right)} - 2 \\omega r \\cos{\\left(\\omega t - \\phi_{1}{\\left(t \\right)} \\right)} \\frac{d}{d t} \\operatorname{l_{1}}{\\left(t \\right)} - 2 \\omega r \\cos{\\left(\\omega t - \\phi_{2}{\\left(t \\right)} \\right)} \\frac{d}{d t} \\operatorname{l_{2}}{\\left(t \\right)} + \\operatorname{l_{1}}^{2}{\\left(t \\right)} \\left(\\frac{d}{d t} \\phi_{1}{\\left(t \\right)}\\right)^{2} + 2 \\operatorname{l_{1}}{\\left(t \\right)} \\operatorname{l_{2}}{\\left(t \\right)} \\cos{\\left(\\phi_{1}{\\left(t \\right)} - \\phi_{2}{\\left(t \\right)} \\right)} \\frac{d}{d t} \\phi_{1}{\\left(t \\right)} \\frac{d}{d t} \\phi_{2}{\\left(t \\right)} - 2 \\operatorname{l_{1}}{\\left(t \\right)} \\sin{\\left(\\phi_{1}{\\left(t \\right)} - \\phi_{2}{\\left(t \\right)} \\right)} \\frac{d}{d t} \\operatorname{l_{2}}{\\left(t \\right)} \\frac{d}{d t} \\phi_{1}{\\left(t \\right)} + \\operatorname{l_{2}}^{2}{\\left(t \\right)} \\left(\\frac{d}{d t} \\phi_{2}{\\left(t \\right)}\\right)^{2} + 2 \\operatorname{l_{2}}{\\left(t \\right)} \\sin{\\left(\\phi_{1}{\\left(t \\right)} - \\phi_{2}{\\left(t \\right)} \\right)} \\frac{d}{d t} \\operatorname{l_{1}}{\\left(t \\right)} \\frac{d}{d t} \\phi_{2}{\\left(t \\right)} + 2 \\cos{\\left(\\phi_{1}{\\left(t \\right)} - \\phi_{2}{\\left(t \\right)} \\right)} \\frac{d}{d t} \\operatorname{l_{1}}{\\left(t \\right)} \\frac{d}{d t} \\operatorname{l_{2}}{\\left(t \\right)} + \\left(\\frac{d}{d t} \\operatorname{l_{1}}{\\left(t \\right)}\\right)^{2} + \\left(\\frac{d}{d t} \\operatorname{l_{2}}{\\left(t \\right)}\\right)^{2}\\right)$"
          },
          "metadata": {},
          "execution_count": 118
        }
      ]
    },
    {
      "cell_type": "markdown",
      "source": [
        "# Equations of motion "
      ],
      "metadata": {
        "id": "_XTTpYqPuQ-i"
      }
    },
    {
      "cell_type": "markdown",
      "source": [
        "## $l_1$"
      ],
      "metadata": {
        "id": "oP9onh-uuTIh"
      }
    },
    {
      "cell_type": "markdown",
      "source": [
        "Setting up the first equation of motion starts with finding $\\frac{∂ L}{\\partial l_1}$:"
      ],
      "metadata": {
        "id": "EwitmBsPnpYw"
      }
    },
    {
      "cell_type": "code",
      "source": [
        "dLdl1 = diff(L,l1) # validated vs matts work\n",
        "dLdl1 = dLdl1.simplify()\n",
        "dLdl1"
      ],
      "metadata": {
        "colab": {
          "base_uri": "https://localhost:8080/",
          "height": 98
        },
        "id": "tbux5wZ4mwdo",
        "outputId": "217bb42a-b579-4ad9-96a6-6e49eed6ed31"
      },
      "execution_count": 66,
      "outputs": [
        {
          "output_type": "execute_result",
          "data": {
            "text/plain": [
              "-g*u1*cos(phi1(t)) - g*u2*cos(phi1(t)) - u1*(omega*r*sin(omega*t - phi1(t)) - l1(t)*Derivative(phi1(t), t))*Derivative(phi1(t), t) - u2*(omega*r*sin(omega*t - phi1(t)) - l1(t)*Derivative(phi1(t), t) - l2(t)*cos(phi1(t) - phi2(t))*Derivative(phi2(t), t) + sin(phi1(t) - phi2(t))*Derivative(l2(t), t))*Derivative(phi1(t), t)"
            ],
            "text/latex": "$\\displaystyle - g u_{1} \\cos{\\left(\\phi_{1}{\\left(t \\right)} \\right)} - g u_{2} \\cos{\\left(\\phi_{1}{\\left(t \\right)} \\right)} - u_{1} \\left(\\omega r \\sin{\\left(\\omega t - \\phi_{1}{\\left(t \\right)} \\right)} - \\operatorname{l_{1}}{\\left(t \\right)} \\frac{d}{d t} \\phi_{1}{\\left(t \\right)}\\right) \\frac{d}{d t} \\phi_{1}{\\left(t \\right)} - u_{2} \\left(\\omega r \\sin{\\left(\\omega t - \\phi_{1}{\\left(t \\right)} \\right)} - \\operatorname{l_{1}}{\\left(t \\right)} \\frac{d}{d t} \\phi_{1}{\\left(t \\right)} - \\operatorname{l_{2}}{\\left(t \\right)} \\cos{\\left(\\phi_{1}{\\left(t \\right)} - \\phi_{2}{\\left(t \\right)} \\right)} \\frac{d}{d t} \\phi_{2}{\\left(t \\right)} + \\sin{\\left(\\phi_{1}{\\left(t \\right)} - \\phi_{2}{\\left(t \\right)} \\right)} \\frac{d}{d t} \\operatorname{l_{2}}{\\left(t \\right)}\\right) \\frac{d}{d t} \\phi_{1}{\\left(t \\right)}$"
          },
          "metadata": {},
          "execution_count": 66
        }
      ]
    },
    {
      "cell_type": "markdown",
      "source": [
        "We then find $\\frac{∂ L}{\\partial \\dot{l_1}}$"
      ],
      "metadata": {
        "id": "9nanT_fyn0um"
      }
    },
    {
      "cell_type": "code",
      "source": [
        "dl1 = diff(l1, t) # checked against matts work\n",
        "dLddl1 = diff(L, dl1)\n",
        "dLddl1 = dLddl1.simplify()"
      ],
      "metadata": {
        "id": "MwLVYDVwm6gH"
      },
      "execution_count": 67,
      "outputs": []
    },
    {
      "cell_type": "markdown",
      "source": [
        "And finally $\\frac{d}{dt}\\frac{∂ L}{\\partial \\dot{l_1}}$"
      ],
      "metadata": {
        "id": "Y6m12A2Mn-LF"
      }
    },
    {
      "cell_type": "code",
      "source": [
        "ddLddl1 = diff(dLddl1, t)\n",
        "ddLddl1 = ddLddl1.simplify()"
      ],
      "metadata": {
        "id": "GyA1fpAzgnxH"
      },
      "execution_count": 90,
      "outputs": []
    },
    {
      "cell_type": "markdown",
      "source": [
        "Setting $$\\frac{d}{dt}\\frac{∂ L}{\\partial \\dot{l_1}} = \\frac{∂ L}{\\partial l_1}$$\n",
        "\n",
        "gives us our first equation of motion:"
      ],
      "metadata": {
        "id": "X0NMRmqtoIEV"
      }
    },
    {
      "cell_type": "code",
      "source": [
        "motionl1 = ddLddl1 - dLdl1\n",
        "motionl1 = motionl1.simplify()"
      ],
      "metadata": {
        "id": "MmyM4qzp4nrs"
      },
      "execution_count": 134,
      "outputs": []
    },
    {
      "cell_type": "code",
      "source": [
        "motionl1"
      ],
      "metadata": {
        "colab": {
          "base_uri": "https://localhost:8080/",
          "height": 217
        },
        "id": "3ciioz3X6LL_",
        "outputId": "8710e50d-56dc-48a1-d2e7-26428bb4025e"
      },
      "execution_count": 135,
      "outputs": [
        {
          "output_type": "execute_result",
          "data": {
            "text/plain": [
              "Eq(g*u1*cos(phi1(t)) + g*u2*cos(phi1(t)) + u1*(omega*r*sin(omega*t - phi1(t)) - l1(t)*Derivative(phi1(t), t))*Derivative(phi1(t), t) + u2*(omega*r*sin(omega*t - phi1(t)) - l1(t)*Derivative(phi1(t), t) - l2(t)*cos(phi1(t) - phi2(t))*Derivative(phi2(t), t) + sin(phi1(t) - phi2(t))*Derivative(l2(t), t))*Derivative(phi1(t), t), -omega*r*u1*(omega - Derivative(phi1(t), t))*sin(omega*t - phi1(t)) - omega*r*u2*(omega - Derivative(phi1(t), t))*sin(omega*t - phi1(t)) - u1*Derivative(l1(t), (t, 2)) - u2*(Derivative(phi1(t), t) - Derivative(phi2(t), t))*l2(t)*cos(phi1(t) - phi2(t))*Derivative(phi2(t), t) + u2*(Derivative(phi1(t), t) - Derivative(phi2(t), t))*sin(phi1(t) - phi2(t))*Derivative(l2(t), t) - u2*l2(t)*sin(phi1(t) - phi2(t))*Derivative(phi2(t), (t, 2)) - u2*sin(phi1(t) - phi2(t))*Derivative(l2(t), t)*Derivative(phi2(t), t) - u2*cos(phi1(t) - phi2(t))*Derivative(l2(t), (t, 2)) - u2*Derivative(l1(t), (t, 2)))"
            ],
            "text/latex": "$\\displaystyle g u_{1} \\cos{\\left(\\phi_{1}{\\left(t \\right)} \\right)} + g u_{2} \\cos{\\left(\\phi_{1}{\\left(t \\right)} \\right)} + u_{1} \\left(\\omega r \\sin{\\left(\\omega t - \\phi_{1}{\\left(t \\right)} \\right)} - \\operatorname{l_{1}}{\\left(t \\right)} \\frac{d}{d t} \\phi_{1}{\\left(t \\right)}\\right) \\frac{d}{d t} \\phi_{1}{\\left(t \\right)} + u_{2} \\left(\\omega r \\sin{\\left(\\omega t - \\phi_{1}{\\left(t \\right)} \\right)} - \\operatorname{l_{1}}{\\left(t \\right)} \\frac{d}{d t} \\phi_{1}{\\left(t \\right)} - \\operatorname{l_{2}}{\\left(t \\right)} \\cos{\\left(\\phi_{1}{\\left(t \\right)} - \\phi_{2}{\\left(t \\right)} \\right)} \\frac{d}{d t} \\phi_{2}{\\left(t \\right)} + \\sin{\\left(\\phi_{1}{\\left(t \\right)} - \\phi_{2}{\\left(t \\right)} \\right)} \\frac{d}{d t} \\operatorname{l_{2}}{\\left(t \\right)}\\right) \\frac{d}{d t} \\phi_{1}{\\left(t \\right)} = - \\omega r u_{1} \\left(\\omega - \\frac{d}{d t} \\phi_{1}{\\left(t \\right)}\\right) \\sin{\\left(\\omega t - \\phi_{1}{\\left(t \\right)} \\right)} - \\omega r u_{2} \\left(\\omega - \\frac{d}{d t} \\phi_{1}{\\left(t \\right)}\\right) \\sin{\\left(\\omega t - \\phi_{1}{\\left(t \\right)} \\right)} - u_{1} \\frac{d^{2}}{d t^{2}} \\operatorname{l_{1}}{\\left(t \\right)} - u_{2} \\left(\\frac{d}{d t} \\phi_{1}{\\left(t \\right)} - \\frac{d}{d t} \\phi_{2}{\\left(t \\right)}\\right) \\operatorname{l_{2}}{\\left(t \\right)} \\cos{\\left(\\phi_{1}{\\left(t \\right)} - \\phi_{2}{\\left(t \\right)} \\right)} \\frac{d}{d t} \\phi_{2}{\\left(t \\right)} + u_{2} \\left(\\frac{d}{d t} \\phi_{1}{\\left(t \\right)} - \\frac{d}{d t} \\phi_{2}{\\left(t \\right)}\\right) \\sin{\\left(\\phi_{1}{\\left(t \\right)} - \\phi_{2}{\\left(t \\right)} \\right)} \\frac{d}{d t} \\operatorname{l_{2}}{\\left(t \\right)} - u_{2} \\operatorname{l_{2}}{\\left(t \\right)} \\sin{\\left(\\phi_{1}{\\left(t \\right)} - \\phi_{2}{\\left(t \\right)} \\right)} \\frac{d^{2}}{d t^{2}} \\phi_{2}{\\left(t \\right)} - u_{2} \\sin{\\left(\\phi_{1}{\\left(t \\right)} - \\phi_{2}{\\left(t \\right)} \\right)} \\frac{d}{d t} \\operatorname{l_{2}}{\\left(t \\right)} \\frac{d}{d t} \\phi_{2}{\\left(t \\right)} - u_{2} \\cos{\\left(\\phi_{1}{\\left(t \\right)} - \\phi_{2}{\\left(t \\right)} \\right)} \\frac{d^{2}}{d t^{2}} \\operatorname{l_{2}}{\\left(t \\right)} - u_{2} \\frac{d^{2}}{d t^{2}} \\operatorname{l_{1}}{\\left(t \\right)}$"
          },
          "metadata": {},
          "execution_count": 135
        }
      ]
    },
    {
      "cell_type": "code",
      "source": [
        "motion1 = collect(motion1, u2)\n",
        "motion1 = collect(motion1, u1)\n",
        "motion1 = motion1.expand()\n",
        "motion1 = collect(motion1, u2)\n",
        "motion1 = collect(motion1, u1)\n",
        "motion1"
      ],
      "metadata": {
        "colab": {
          "base_uri": "https://localhost:8080/",
          "height": 139
        },
        "id": "X-cmvrXY6rie",
        "outputId": "1976a7da-54c7-42e7-d674-6e1d139585d0"
      },
      "execution_count": 143,
      "outputs": [
        {
          "output_type": "execute_result",
          "data": {
            "text/plain": [
              "u1*(g*cos(phi1(t)) + omega**2*r*sin(omega*t - phi1(t)) - l1(t)*Derivative(phi1(t), t)**2 + Derivative(l1(t), (t, 2))) + u2*(g*cos(phi1(t)) + omega**2*r*sin(omega*t - phi1(t)) - l1(t)*Derivative(phi1(t), t)**2 + l2(t)*sin(phi1(t) - phi2(t))*Derivative(phi2(t), (t, 2)) - l2(t)*cos(phi1(t) - phi2(t))*Derivative(phi2(t), t)**2 + 2*sin(phi1(t) - phi2(t))*Derivative(l2(t), t)*Derivative(phi2(t), t) + cos(phi1(t) - phi2(t))*Derivative(l2(t), (t, 2)) + Derivative(l1(t), (t, 2)))"
            ],
            "text/latex": "$\\displaystyle u_{1} \\left(g \\cos{\\left(\\phi_{1}{\\left(t \\right)} \\right)} + \\omega^{2} r \\sin{\\left(\\omega t - \\phi_{1}{\\left(t \\right)} \\right)} - \\operatorname{l_{1}}{\\left(t \\right)} \\left(\\frac{d}{d t} \\phi_{1}{\\left(t \\right)}\\right)^{2} + \\frac{d^{2}}{d t^{2}} \\operatorname{l_{1}}{\\left(t \\right)}\\right) + u_{2} \\left(g \\cos{\\left(\\phi_{1}{\\left(t \\right)} \\right)} + \\omega^{2} r \\sin{\\left(\\omega t - \\phi_{1}{\\left(t \\right)} \\right)} - \\operatorname{l_{1}}{\\left(t \\right)} \\left(\\frac{d}{d t} \\phi_{1}{\\left(t \\right)}\\right)^{2} + \\operatorname{l_{2}}{\\left(t \\right)} \\sin{\\left(\\phi_{1}{\\left(t \\right)} - \\phi_{2}{\\left(t \\right)} \\right)} \\frac{d^{2}}{d t^{2}} \\phi_{2}{\\left(t \\right)} - \\operatorname{l_{2}}{\\left(t \\right)} \\cos{\\left(\\phi_{1}{\\left(t \\right)} - \\phi_{2}{\\left(t \\right)} \\right)} \\left(\\frac{d}{d t} \\phi_{2}{\\left(t \\right)}\\right)^{2} + 2 \\sin{\\left(\\phi_{1}{\\left(t \\right)} - \\phi_{2}{\\left(t \\right)} \\right)} \\frac{d}{d t} \\operatorname{l_{2}}{\\left(t \\right)} \\frac{d}{d t} \\phi_{2}{\\left(t \\right)} + \\cos{\\left(\\phi_{1}{\\left(t \\right)} - \\phi_{2}{\\left(t \\right)} \\right)} \\frac{d^{2}}{d t^{2}} \\operatorname{l_{2}}{\\left(t \\right)} + \\frac{d^{2}}{d t^{2}} \\operatorname{l_{1}}{\\left(t \\right)}\\right)$"
          },
          "metadata": {},
          "execution_count": 143
        }
      ]
    },
    {
      "cell_type": "code",
      "source": [
        "motion1 = Eq(motion1, 0)\n",
        "motion1"
      ],
      "metadata": {
        "colab": {
          "base_uri": "https://localhost:8080/",
          "height": 159
        },
        "id": "9l5_Q7xx8qjv",
        "outputId": "461ed454-0037-4586-f68d-c6ef3dfa39fc"
      },
      "execution_count": 144,
      "outputs": [
        {
          "output_type": "execute_result",
          "data": {
            "text/plain": [
              "Eq(u1*(g*cos(phi1(t)) + omega**2*r*sin(omega*t - phi1(t)) - l1(t)*Derivative(phi1(t), t)**2 + Derivative(l1(t), (t, 2))) + u2*(g*cos(phi1(t)) + omega**2*r*sin(omega*t - phi1(t)) - l1(t)*Derivative(phi1(t), t)**2 + l2(t)*sin(phi1(t) - phi2(t))*Derivative(phi2(t), (t, 2)) - l2(t)*cos(phi1(t) - phi2(t))*Derivative(phi2(t), t)**2 + 2*sin(phi1(t) - phi2(t))*Derivative(l2(t), t)*Derivative(phi2(t), t) + cos(phi1(t) - phi2(t))*Derivative(l2(t), (t, 2)) + Derivative(l1(t), (t, 2))), 0)"
            ],
            "text/latex": "$\\displaystyle u_{1} \\left(g \\cos{\\left(\\phi_{1}{\\left(t \\right)} \\right)} + \\omega^{2} r \\sin{\\left(\\omega t - \\phi_{1}{\\left(t \\right)} \\right)} - \\operatorname{l_{1}}{\\left(t \\right)} \\left(\\frac{d}{d t} \\phi_{1}{\\left(t \\right)}\\right)^{2} + \\frac{d^{2}}{d t^{2}} \\operatorname{l_{1}}{\\left(t \\right)}\\right) + u_{2} \\left(g \\cos{\\left(\\phi_{1}{\\left(t \\right)} \\right)} + \\omega^{2} r \\sin{\\left(\\omega t - \\phi_{1}{\\left(t \\right)} \\right)} - \\operatorname{l_{1}}{\\left(t \\right)} \\left(\\frac{d}{d t} \\phi_{1}{\\left(t \\right)}\\right)^{2} + \\operatorname{l_{2}}{\\left(t \\right)} \\sin{\\left(\\phi_{1}{\\left(t \\right)} - \\phi_{2}{\\left(t \\right)} \\right)} \\frac{d^{2}}{d t^{2}} \\phi_{2}{\\left(t \\right)} - \\operatorname{l_{2}}{\\left(t \\right)} \\cos{\\left(\\phi_{1}{\\left(t \\right)} - \\phi_{2}{\\left(t \\right)} \\right)} \\left(\\frac{d}{d t} \\phi_{2}{\\left(t \\right)}\\right)^{2} + 2 \\sin{\\left(\\phi_{1}{\\left(t \\right)} - \\phi_{2}{\\left(t \\right)} \\right)} \\frac{d}{d t} \\operatorname{l_{2}}{\\left(t \\right)} \\frac{d}{d t} \\phi_{2}{\\left(t \\right)} + \\cos{\\left(\\phi_{1}{\\left(t \\right)} - \\phi_{2}{\\left(t \\right)} \\right)} \\frac{d^{2}}{d t^{2}} \\operatorname{l_{2}}{\\left(t \\right)} + \\frac{d^{2}}{d t^{2}} \\operatorname{l_{1}}{\\left(t \\right)}\\right) = 0$"
          },
          "metadata": {},
          "execution_count": 144
        }
      ]
    },
    {
      "cell_type": "markdown",
      "source": [
        "## $l_2$"
      ],
      "metadata": {
        "id": "S4MkjDDkqlzO"
      }
    },
    {
      "cell_type": "code",
      "source": [
        "dLdl2 = diff(L,l2)\n",
        "dLdl2 = dLdl2.simplify()\n",
        "dLdl2"
      ],
      "metadata": {
        "colab": {
          "base_uri": "https://localhost:8080/",
          "height": 57
        },
        "id": "L9NtHrPCoHMa",
        "outputId": "51f57d52-0f50-4e7d-af7f-3afd240f882f"
      },
      "execution_count": 71,
      "outputs": [
        {
          "output_type": "execute_result",
          "data": {
            "text/plain": [
              "u2*(-g*cos(phi2(t)) + (-omega*r*sin(omega*t - phi2(t)) + l1(t)*cos(phi1(t) - phi2(t))*Derivative(phi1(t), t) + l2(t)*Derivative(phi2(t), t) + sin(phi1(t) - phi2(t))*Derivative(l1(t), t))*Derivative(phi2(t), t))"
            ],
            "text/latex": "$\\displaystyle u_{2} \\left(- g \\cos{\\left(\\phi_{2}{\\left(t \\right)} \\right)} + \\left(- \\omega r \\sin{\\left(\\omega t - \\phi_{2}{\\left(t \\right)} \\right)} + \\operatorname{l_{1}}{\\left(t \\right)} \\cos{\\left(\\phi_{1}{\\left(t \\right)} - \\phi_{2}{\\left(t \\right)} \\right)} \\frac{d}{d t} \\phi_{1}{\\left(t \\right)} + \\operatorname{l_{2}}{\\left(t \\right)} \\frac{d}{d t} \\phi_{2}{\\left(t \\right)} + \\sin{\\left(\\phi_{1}{\\left(t \\right)} - \\phi_{2}{\\left(t \\right)} \\right)} \\frac{d}{d t} \\operatorname{l_{1}}{\\left(t \\right)}\\right) \\frac{d}{d t} \\phi_{2}{\\left(t \\right)}\\right)$"
          },
          "metadata": {},
          "execution_count": 71
        }
      ]
    },
    {
      "cell_type": "code",
      "source": [
        "dl2 = diff(l2, t)\n",
        "dLddl2 = diff(L, dl2)\n",
        "dLddl2 = dLddl2.simplify()"
      ],
      "metadata": {
        "id": "vQXudZDQqpIt"
      },
      "execution_count": 72,
      "outputs": []
    },
    {
      "cell_type": "code",
      "source": [
        "ddLddl2 = diff(dLddl2, t)\n",
        "ddLddl2 = ddLddl2.simplify()"
      ],
      "metadata": {
        "id": "qXC9EEELqr-u"
      },
      "execution_count": 93,
      "outputs": []
    },
    {
      "cell_type": "code",
      "source": [
        "motionl2 = Eq(ddLddl2, dLdl2)\n",
        "motionl2 = motionl2.simplify()"
      ],
      "metadata": {
        "id": "V4mA7I6Dqtuh"
      },
      "execution_count": 94,
      "outputs": []
    },
    {
      "cell_type": "code",
      "source": [
        "motionl2"
      ],
      "metadata": {
        "colab": {
          "base_uri": "https://localhost:8080/",
          "height": 119
        },
        "id": "aHB3UUKTrOUq",
        "outputId": "b2c5775d-2375-46cb-94b4-e0baf2ae55e4"
      },
      "execution_count": 95,
      "outputs": [
        {
          "output_type": "execute_result",
          "data": {
            "text/plain": [
              "Eq(u2*(g*cos(phi2(t)) - (-omega*r*sin(omega*t - phi2(t)) + l1(t)*cos(phi1(t) - phi2(t))*Derivative(phi1(t), t) + l2(t)*Derivative(phi2(t), t) + sin(phi1(t) - phi2(t))*Derivative(l1(t), t))*Derivative(phi2(t), t)), 1.0*u2*(-omega*r*(omega - Derivative(phi2(t), t))*sin(omega*t - phi2(t)) + (Derivative(phi1(t), t) - Derivative(phi2(t), t))*l1(t)*cos(phi1(t) - phi2(t))*Derivative(phi1(t), t) + (Derivative(phi1(t), t) - Derivative(phi2(t), t))*sin(phi1(t) - phi2(t))*Derivative(l1(t), t) + l1(t)*sin(phi1(t) - phi2(t))*Derivative(phi1(t), (t, 2)) + sin(phi1(t) - phi2(t))*Derivative(l1(t), t)*Derivative(phi1(t), t) - cos(phi1(t) - phi2(t))*Derivative(l1(t), (t, 2)) - Derivative(l2(t), (t, 2))))"
            ],
            "text/latex": "$\\displaystyle u_{2} \\left(g \\cos{\\left(\\phi_{2}{\\left(t \\right)} \\right)} - \\left(- \\omega r \\sin{\\left(\\omega t - \\phi_{2}{\\left(t \\right)} \\right)} + \\operatorname{l_{1}}{\\left(t \\right)} \\cos{\\left(\\phi_{1}{\\left(t \\right)} - \\phi_{2}{\\left(t \\right)} \\right)} \\frac{d}{d t} \\phi_{1}{\\left(t \\right)} + \\operatorname{l_{2}}{\\left(t \\right)} \\frac{d}{d t} \\phi_{2}{\\left(t \\right)} + \\sin{\\left(\\phi_{1}{\\left(t \\right)} - \\phi_{2}{\\left(t \\right)} \\right)} \\frac{d}{d t} \\operatorname{l_{1}}{\\left(t \\right)}\\right) \\frac{d}{d t} \\phi_{2}{\\left(t \\right)}\\right) = 1.0 u_{2} \\left(- \\omega r \\left(\\omega - \\frac{d}{d t} \\phi_{2}{\\left(t \\right)}\\right) \\sin{\\left(\\omega t - \\phi_{2}{\\left(t \\right)} \\right)} + \\left(\\frac{d}{d t} \\phi_{1}{\\left(t \\right)} - \\frac{d}{d t} \\phi_{2}{\\left(t \\right)}\\right) \\operatorname{l_{1}}{\\left(t \\right)} \\cos{\\left(\\phi_{1}{\\left(t \\right)} - \\phi_{2}{\\left(t \\right)} \\right)} \\frac{d}{d t} \\phi_{1}{\\left(t \\right)} + \\left(\\frac{d}{d t} \\phi_{1}{\\left(t \\right)} - \\frac{d}{d t} \\phi_{2}{\\left(t \\right)}\\right) \\sin{\\left(\\phi_{1}{\\left(t \\right)} - \\phi_{2}{\\left(t \\right)} \\right)} \\frac{d}{d t} \\operatorname{l_{1}}{\\left(t \\right)} + \\operatorname{l_{1}}{\\left(t \\right)} \\sin{\\left(\\phi_{1}{\\left(t \\right)} - \\phi_{2}{\\left(t \\right)} \\right)} \\frac{d^{2}}{d t^{2}} \\phi_{1}{\\left(t \\right)} + \\sin{\\left(\\phi_{1}{\\left(t \\right)} - \\phi_{2}{\\left(t \\right)} \\right)} \\frac{d}{d t} \\operatorname{l_{1}}{\\left(t \\right)} \\frac{d}{d t} \\phi_{1}{\\left(t \\right)} - \\cos{\\left(\\phi_{1}{\\left(t \\right)} - \\phi_{2}{\\left(t \\right)} \\right)} \\frac{d^{2}}{d t^{2}} \\operatorname{l_{1}}{\\left(t \\right)} - \\frac{d^{2}}{d t^{2}} \\operatorname{l_{2}}{\\left(t \\right)}\\right)$"
          },
          "metadata": {},
          "execution_count": 95
        }
      ]
    },
    {
      "cell_type": "markdown",
      "source": [
        "## $\\phi_1$"
      ],
      "metadata": {
        "id": "ekiVMhAPrXNc"
      }
    },
    {
      "cell_type": "code",
      "source": [
        "dLdphi1 = diff(L,phi1)\n",
        "dLdphi1 = dLdphi1.simplify()\n",
        "dLdphi1"
      ],
      "metadata": {
        "colab": {
          "base_uri": "https://localhost:8080/",
          "height": 118
        },
        "id": "W2-ArnZdrWcn",
        "outputId": "daba3cb2-3fa2-4e12-a8e7-13fa8ea7ccf9"
      },
      "execution_count": 76,
      "outputs": [
        {
          "output_type": "execute_result",
          "data": {
            "text/plain": [
              "g*u1*l1(t)*sin(phi1(t)) + g*u2*l1(t)*sin(phi1(t)) - 1.0*omega*r*u1*(-l1(t)*cos(omega*t - phi1(t))*Derivative(phi1(t), t) + sin(omega*t - phi1(t))*Derivative(l1(t), t)) - 1.0*u2*(-omega*r*l1(t)*cos(omega*t - phi1(t))*Derivative(phi1(t), t) + omega*r*sin(omega*t - phi1(t))*Derivative(l1(t), t) + l1(t)*l2(t)*sin(phi1(t) - phi2(t))*Derivative(phi1(t), t)*Derivative(phi2(t), t) + l1(t)*cos(phi1(t) - phi2(t))*Derivative(l2(t), t)*Derivative(phi1(t), t) - l2(t)*cos(phi1(t) - phi2(t))*Derivative(l1(t), t)*Derivative(phi2(t), t) + sin(phi1(t) - phi2(t))*Derivative(l1(t), t)*Derivative(l2(t), t))"
            ],
            "text/latex": "$\\displaystyle g u_{1} \\operatorname{l_{1}}{\\left(t \\right)} \\sin{\\left(\\phi_{1}{\\left(t \\right)} \\right)} + g u_{2} \\operatorname{l_{1}}{\\left(t \\right)} \\sin{\\left(\\phi_{1}{\\left(t \\right)} \\right)} - 1.0 \\omega r u_{1} \\left(- \\operatorname{l_{1}}{\\left(t \\right)} \\cos{\\left(\\omega t - \\phi_{1}{\\left(t \\right)} \\right)} \\frac{d}{d t} \\phi_{1}{\\left(t \\right)} + \\sin{\\left(\\omega t - \\phi_{1}{\\left(t \\right)} \\right)} \\frac{d}{d t} \\operatorname{l_{1}}{\\left(t \\right)}\\right) - 1.0 u_{2} \\left(- \\omega r \\operatorname{l_{1}}{\\left(t \\right)} \\cos{\\left(\\omega t - \\phi_{1}{\\left(t \\right)} \\right)} \\frac{d}{d t} \\phi_{1}{\\left(t \\right)} + \\omega r \\sin{\\left(\\omega t - \\phi_{1}{\\left(t \\right)} \\right)} \\frac{d}{d t} \\operatorname{l_{1}}{\\left(t \\right)} + \\operatorname{l_{1}}{\\left(t \\right)} \\operatorname{l_{2}}{\\left(t \\right)} \\sin{\\left(\\phi_{1}{\\left(t \\right)} - \\phi_{2}{\\left(t \\right)} \\right)} \\frac{d}{d t} \\phi_{1}{\\left(t \\right)} \\frac{d}{d t} \\phi_{2}{\\left(t \\right)} + \\operatorname{l_{1}}{\\left(t \\right)} \\cos{\\left(\\phi_{1}{\\left(t \\right)} - \\phi_{2}{\\left(t \\right)} \\right)} \\frac{d}{d t} \\operatorname{l_{2}}{\\left(t \\right)} \\frac{d}{d t} \\phi_{1}{\\left(t \\right)} - \\operatorname{l_{2}}{\\left(t \\right)} \\cos{\\left(\\phi_{1}{\\left(t \\right)} - \\phi_{2}{\\left(t \\right)} \\right)} \\frac{d}{d t} \\operatorname{l_{1}}{\\left(t \\right)} \\frac{d}{d t} \\phi_{2}{\\left(t \\right)} + \\sin{\\left(\\phi_{1}{\\left(t \\right)} - \\phi_{2}{\\left(t \\right)} \\right)} \\frac{d}{d t} \\operatorname{l_{1}}{\\left(t \\right)} \\frac{d}{d t} \\operatorname{l_{2}}{\\left(t \\right)}\\right)$"
          },
          "metadata": {},
          "execution_count": 76
        }
      ]
    },
    {
      "cell_type": "code",
      "source": [
        "dphi1 = diff(phi1, t)\n",
        "dLddphi1 = diff(L, dphi1)\n",
        "dLddphi1 = dLddphi1.simplify()"
      ],
      "metadata": {
        "id": "5l_kttvHrflF"
      },
      "execution_count": 77,
      "outputs": []
    },
    {
      "cell_type": "code",
      "source": [
        "ddLddphi1 = diff(dLddphi1, t)\n",
        "ddLddphi1 = ddLddphi1.simplify()"
      ],
      "metadata": {
        "id": "JKpMez2hroA4"
      },
      "execution_count": 78,
      "outputs": []
    },
    {
      "cell_type": "code",
      "source": [
        "motionphi1 = Eq(ddLddphi1, dLdphi1)\n",
        "motionphi1 = motionphi1.simplify()"
      ],
      "metadata": {
        "id": "bfHl8vzmrtOn"
      },
      "execution_count": 79,
      "outputs": []
    },
    {
      "cell_type": "code",
      "source": [
        "motionphi1"
      ],
      "metadata": {
        "colab": {
          "base_uri": "https://localhost:8080/",
          "height": 200
        },
        "id": "lSA1Wav5rxde",
        "outputId": "350bf86a-92fd-4806-d7ba-2e8f98001839"
      },
      "execution_count": 80,
      "outputs": [
        {
          "output_type": "execute_result",
          "data": {
            "text/plain": [
              "Eq(g*u1*l1(t)*sin(phi1(t)) + g*u2*l1(t)*sin(phi1(t)) + 1.0*omega*r*u1*(l1(t)*cos(omega*t - phi1(t))*Derivative(phi1(t), t) - sin(omega*t - phi1(t))*Derivative(l1(t), t)) - 1.0*u2*(-omega*r*l1(t)*cos(omega*t - phi1(t))*Derivative(phi1(t), t) + omega*r*sin(omega*t - phi1(t))*Derivative(l1(t), t) + l1(t)*l2(t)*sin(phi1(t) - phi2(t))*Derivative(phi1(t), t)*Derivative(phi2(t), t) + l1(t)*cos(phi1(t) - phi2(t))*Derivative(l2(t), t)*Derivative(phi1(t), t) - l2(t)*cos(phi1(t) - phi2(t))*Derivative(l1(t), t)*Derivative(phi2(t), t) + sin(phi1(t) - phi2(t))*Derivative(l1(t), t)*Derivative(l2(t), t)), -(u1*(omega*r*sin(omega*t - phi1(t)) - l1(t)*Derivative(phi1(t), t)) + u2*(omega*r*sin(omega*t - phi1(t)) - l1(t)*Derivative(phi1(t), t) - l2(t)*cos(phi1(t) - phi2(t))*Derivative(phi2(t), t) + sin(phi1(t) - phi2(t))*Derivative(l2(t), t)))*Derivative(l1(t), t) + (u1*(-omega*r*(omega - Derivative(phi1(t), t))*cos(omega*t - phi1(t)) + l1(t)*Derivative(phi1(t), (t, 2)) + Derivative(l1(t), t)*Derivative(phi1(t), t)) - u2*(omega*r*(omega - Derivative(phi1(t), t))*cos(omega*t - phi1(t)) + (Derivative(phi1(t), t) - Derivative(phi2(t), t))*l2(t)*sin(phi1(t) - phi2(t))*Derivative(phi2(t), t) + (Derivative(phi1(t), t) - Derivative(phi2(t), t))*cos(phi1(t) - phi2(t))*Derivative(l2(t), t) - l1(t)*Derivative(phi1(t), (t, 2)) - l2(t)*cos(phi1(t) - phi2(t))*Derivative(phi2(t), (t, 2)) + sin(phi1(t) - phi2(t))*Derivative(l2(t), (t, 2)) - cos(phi1(t) - phi2(t))*Derivative(l2(t), t)*Derivative(phi2(t), t) - Derivative(l1(t), t)*Derivative(phi1(t), t)))*l1(t))"
            ],
            "text/latex": "$\\displaystyle g u_{1} \\operatorname{l_{1}}{\\left(t \\right)} \\sin{\\left(\\phi_{1}{\\left(t \\right)} \\right)} + g u_{2} \\operatorname{l_{1}}{\\left(t \\right)} \\sin{\\left(\\phi_{1}{\\left(t \\right)} \\right)} + 1.0 \\omega r u_{1} \\left(\\operatorname{l_{1}}{\\left(t \\right)} \\cos{\\left(\\omega t - \\phi_{1}{\\left(t \\right)} \\right)} \\frac{d}{d t} \\phi_{1}{\\left(t \\right)} - \\sin{\\left(\\omega t - \\phi_{1}{\\left(t \\right)} \\right)} \\frac{d}{d t} \\operatorname{l_{1}}{\\left(t \\right)}\\right) - 1.0 u_{2} \\left(- \\omega r \\operatorname{l_{1}}{\\left(t \\right)} \\cos{\\left(\\omega t - \\phi_{1}{\\left(t \\right)} \\right)} \\frac{d}{d t} \\phi_{1}{\\left(t \\right)} + \\omega r \\sin{\\left(\\omega t - \\phi_{1}{\\left(t \\right)} \\right)} \\frac{d}{d t} \\operatorname{l_{1}}{\\left(t \\right)} + \\operatorname{l_{1}}{\\left(t \\right)} \\operatorname{l_{2}}{\\left(t \\right)} \\sin{\\left(\\phi_{1}{\\left(t \\right)} - \\phi_{2}{\\left(t \\right)} \\right)} \\frac{d}{d t} \\phi_{1}{\\left(t \\right)} \\frac{d}{d t} \\phi_{2}{\\left(t \\right)} + \\operatorname{l_{1}}{\\left(t \\right)} \\cos{\\left(\\phi_{1}{\\left(t \\right)} - \\phi_{2}{\\left(t \\right)} \\right)} \\frac{d}{d t} \\operatorname{l_{2}}{\\left(t \\right)} \\frac{d}{d t} \\phi_{1}{\\left(t \\right)} - \\operatorname{l_{2}}{\\left(t \\right)} \\cos{\\left(\\phi_{1}{\\left(t \\right)} - \\phi_{2}{\\left(t \\right)} \\right)} \\frac{d}{d t} \\operatorname{l_{1}}{\\left(t \\right)} \\frac{d}{d t} \\phi_{2}{\\left(t \\right)} + \\sin{\\left(\\phi_{1}{\\left(t \\right)} - \\phi_{2}{\\left(t \\right)} \\right)} \\frac{d}{d t} \\operatorname{l_{1}}{\\left(t \\right)} \\frac{d}{d t} \\operatorname{l_{2}}{\\left(t \\right)}\\right) = - \\left(u_{1} \\left(\\omega r \\sin{\\left(\\omega t - \\phi_{1}{\\left(t \\right)} \\right)} - \\operatorname{l_{1}}{\\left(t \\right)} \\frac{d}{d t} \\phi_{1}{\\left(t \\right)}\\right) + u_{2} \\left(\\omega r \\sin{\\left(\\omega t - \\phi_{1}{\\left(t \\right)} \\right)} - \\operatorname{l_{1}}{\\left(t \\right)} \\frac{d}{d t} \\phi_{1}{\\left(t \\right)} - \\operatorname{l_{2}}{\\left(t \\right)} \\cos{\\left(\\phi_{1}{\\left(t \\right)} - \\phi_{2}{\\left(t \\right)} \\right)} \\frac{d}{d t} \\phi_{2}{\\left(t \\right)} + \\sin{\\left(\\phi_{1}{\\left(t \\right)} - \\phi_{2}{\\left(t \\right)} \\right)} \\frac{d}{d t} \\operatorname{l_{2}}{\\left(t \\right)}\\right)\\right) \\frac{d}{d t} \\operatorname{l_{1}}{\\left(t \\right)} + \\left(u_{1} \\left(- \\omega r \\left(\\omega - \\frac{d}{d t} \\phi_{1}{\\left(t \\right)}\\right) \\cos{\\left(\\omega t - \\phi_{1}{\\left(t \\right)} \\right)} + \\operatorname{l_{1}}{\\left(t \\right)} \\frac{d^{2}}{d t^{2}} \\phi_{1}{\\left(t \\right)} + \\frac{d}{d t} \\operatorname{l_{1}}{\\left(t \\right)} \\frac{d}{d t} \\phi_{1}{\\left(t \\right)}\\right) - u_{2} \\left(\\omega r \\left(\\omega - \\frac{d}{d t} \\phi_{1}{\\left(t \\right)}\\right) \\cos{\\left(\\omega t - \\phi_{1}{\\left(t \\right)} \\right)} + \\left(\\frac{d}{d t} \\phi_{1}{\\left(t \\right)} - \\frac{d}{d t} \\phi_{2}{\\left(t \\right)}\\right) \\operatorname{l_{2}}{\\left(t \\right)} \\sin{\\left(\\phi_{1}{\\left(t \\right)} - \\phi_{2}{\\left(t \\right)} \\right)} \\frac{d}{d t} \\phi_{2}{\\left(t \\right)} + \\left(\\frac{d}{d t} \\phi_{1}{\\left(t \\right)} - \\frac{d}{d t} \\phi_{2}{\\left(t \\right)}\\right) \\cos{\\left(\\phi_{1}{\\left(t \\right)} - \\phi_{2}{\\left(t \\right)} \\right)} \\frac{d}{d t} \\operatorname{l_{2}}{\\left(t \\right)} - \\operatorname{l_{1}}{\\left(t \\right)} \\frac{d^{2}}{d t^{2}} \\phi_{1}{\\left(t \\right)} - \\operatorname{l_{2}}{\\left(t \\right)} \\cos{\\left(\\phi_{1}{\\left(t \\right)} - \\phi_{2}{\\left(t \\right)} \\right)} \\frac{d^{2}}{d t^{2}} \\phi_{2}{\\left(t \\right)} + \\sin{\\left(\\phi_{1}{\\left(t \\right)} - \\phi_{2}{\\left(t \\right)} \\right)} \\frac{d^{2}}{d t^{2}} \\operatorname{l_{2}}{\\left(t \\right)} - \\cos{\\left(\\phi_{1}{\\left(t \\right)} - \\phi_{2}{\\left(t \\right)} \\right)} \\frac{d}{d t} \\operatorname{l_{2}}{\\left(t \\right)} \\frac{d}{d t} \\phi_{2}{\\left(t \\right)} - \\frac{d}{d t} \\operatorname{l_{1}}{\\left(t \\right)} \\frac{d}{d t} \\phi_{1}{\\left(t \\right)}\\right)\\right) \\operatorname{l_{1}}{\\left(t \\right)}$"
          },
          "metadata": {},
          "execution_count": 80
        }
      ]
    },
    {
      "cell_type": "markdown",
      "source": [
        "## $\\phi_2$"
      ],
      "metadata": {
        "id": "A4zuct6_rzwE"
      }
    },
    {
      "cell_type": "code",
      "source": [
        "dLdphi2 = diff(L,phi2)\n",
        "dLdphi2 = dLdphi2.simplify()\n",
        "dLdphi2"
      ],
      "metadata": {
        "colab": {
          "base_uri": "https://localhost:8080/",
          "height": 77
        },
        "id": "0ZhylSo5r0js",
        "outputId": "9c4fe8a0-0cb0-4cbc-f38a-62b7ee5a1874"
      },
      "execution_count": 81,
      "outputs": [
        {
          "output_type": "execute_result",
          "data": {
            "text/plain": [
              "1.0*u2*(g*l2(t)*sin(phi2(t)) + omega*r*l2(t)*cos(omega*t - phi2(t))*Derivative(phi2(t), t) - omega*r*sin(omega*t - phi2(t))*Derivative(l2(t), t) + l1(t)*l2(t)*sin(phi1(t) - phi2(t))*Derivative(phi1(t), t)*Derivative(phi2(t), t) + l1(t)*cos(phi1(t) - phi2(t))*Derivative(l2(t), t)*Derivative(phi1(t), t) - l2(t)*cos(phi1(t) - phi2(t))*Derivative(l1(t), t)*Derivative(phi2(t), t) + sin(phi1(t) - phi2(t))*Derivative(l1(t), t)*Derivative(l2(t), t))"
            ],
            "text/latex": "$\\displaystyle 1.0 u_{2} \\left(g \\operatorname{l_{2}}{\\left(t \\right)} \\sin{\\left(\\phi_{2}{\\left(t \\right)} \\right)} + \\omega r \\operatorname{l_{2}}{\\left(t \\right)} \\cos{\\left(\\omega t - \\phi_{2}{\\left(t \\right)} \\right)} \\frac{d}{d t} \\phi_{2}{\\left(t \\right)} - \\omega r \\sin{\\left(\\omega t - \\phi_{2}{\\left(t \\right)} \\right)} \\frac{d}{d t} \\operatorname{l_{2}}{\\left(t \\right)} + \\operatorname{l_{1}}{\\left(t \\right)} \\operatorname{l_{2}}{\\left(t \\right)} \\sin{\\left(\\phi_{1}{\\left(t \\right)} - \\phi_{2}{\\left(t \\right)} \\right)} \\frac{d}{d t} \\phi_{1}{\\left(t \\right)} \\frac{d}{d t} \\phi_{2}{\\left(t \\right)} + \\operatorname{l_{1}}{\\left(t \\right)} \\cos{\\left(\\phi_{1}{\\left(t \\right)} - \\phi_{2}{\\left(t \\right)} \\right)} \\frac{d}{d t} \\operatorname{l_{2}}{\\left(t \\right)} \\frac{d}{d t} \\phi_{1}{\\left(t \\right)} - \\operatorname{l_{2}}{\\left(t \\right)} \\cos{\\left(\\phi_{1}{\\left(t \\right)} - \\phi_{2}{\\left(t \\right)} \\right)} \\frac{d}{d t} \\operatorname{l_{1}}{\\left(t \\right)} \\frac{d}{d t} \\phi_{2}{\\left(t \\right)} + \\sin{\\left(\\phi_{1}{\\left(t \\right)} - \\phi_{2}{\\left(t \\right)} \\right)} \\frac{d}{d t} \\operatorname{l_{1}}{\\left(t \\right)} \\frac{d}{d t} \\operatorname{l_{2}}{\\left(t \\right)}\\right)$"
          },
          "metadata": {},
          "execution_count": 81
        }
      ]
    },
    {
      "cell_type": "code",
      "source": [
        "dphi2 = diff(phi2, t)\n",
        "dLddphi2 = diff(L, dphi2)\n",
        "dLddphi2 = dLddphi2.simplify()"
      ],
      "metadata": {
        "id": "T5juYKdkr7LP"
      },
      "execution_count": 82,
      "outputs": []
    },
    {
      "cell_type": "code",
      "source": [
        "ddLddphi2 = diff(dLddphi1, t)\n",
        "ddLddphi2 = ddLddphi2.simplify()"
      ],
      "metadata": {
        "id": "7EWjOicasGF0"
      },
      "execution_count": 83,
      "outputs": []
    },
    {
      "cell_type": "code",
      "source": [
        "motionphi2 = Eq(ddLddphi2, dLdphi2)\n",
        "motionphi2 = motionphi2.simplify()"
      ],
      "metadata": {
        "id": "AZaddmEJsOSc"
      },
      "execution_count": 84,
      "outputs": []
    },
    {
      "cell_type": "code",
      "source": [
        "motionphi2"
      ],
      "metadata": {
        "colab": {
          "base_uri": "https://localhost:8080/",
          "height": 159
        },
        "id": "x53hvK3IsVSj",
        "outputId": "849ec04f-b10f-40c8-e404-943f12a304e0"
      },
      "execution_count": 85,
      "outputs": [
        {
          "output_type": "execute_result",
          "data": {
            "text/plain": [
              "Eq(1.0*u2*(g*l2(t)*sin(phi2(t)) + omega*r*l2(t)*cos(omega*t - phi2(t))*Derivative(phi2(t), t) - omega*r*sin(omega*t - phi2(t))*Derivative(l2(t), t) + l1(t)*l2(t)*sin(phi1(t) - phi2(t))*Derivative(phi1(t), t)*Derivative(phi2(t), t) + l1(t)*cos(phi1(t) - phi2(t))*Derivative(l2(t), t)*Derivative(phi1(t), t) - l2(t)*cos(phi1(t) - phi2(t))*Derivative(l1(t), t)*Derivative(phi2(t), t) + sin(phi1(t) - phi2(t))*Derivative(l1(t), t)*Derivative(l2(t), t)), -(u1*(omega*r*sin(omega*t - phi1(t)) - l1(t)*Derivative(phi1(t), t)) + u2*(omega*r*sin(omega*t - phi1(t)) - l1(t)*Derivative(phi1(t), t) - l2(t)*cos(phi1(t) - phi2(t))*Derivative(phi2(t), t) + sin(phi1(t) - phi2(t))*Derivative(l2(t), t)))*Derivative(l1(t), t) + (u1*(-omega*r*(omega - Derivative(phi1(t), t))*cos(omega*t - phi1(t)) + l1(t)*Derivative(phi1(t), (t, 2)) + Derivative(l1(t), t)*Derivative(phi1(t), t)) - u2*(omega*r*(omega - Derivative(phi1(t), t))*cos(omega*t - phi1(t)) + (Derivative(phi1(t), t) - Derivative(phi2(t), t))*l2(t)*sin(phi1(t) - phi2(t))*Derivative(phi2(t), t) + (Derivative(phi1(t), t) - Derivative(phi2(t), t))*cos(phi1(t) - phi2(t))*Derivative(l2(t), t) - l1(t)*Derivative(phi1(t), (t, 2)) - l2(t)*cos(phi1(t) - phi2(t))*Derivative(phi2(t), (t, 2)) + sin(phi1(t) - phi2(t))*Derivative(l2(t), (t, 2)) - cos(phi1(t) - phi2(t))*Derivative(l2(t), t)*Derivative(phi2(t), t) - Derivative(l1(t), t)*Derivative(phi1(t), t)))*l1(t))"
            ],
            "text/latex": "$\\displaystyle 1.0 u_{2} \\left(g \\operatorname{l_{2}}{\\left(t \\right)} \\sin{\\left(\\phi_{2}{\\left(t \\right)} \\right)} + \\omega r \\operatorname{l_{2}}{\\left(t \\right)} \\cos{\\left(\\omega t - \\phi_{2}{\\left(t \\right)} \\right)} \\frac{d}{d t} \\phi_{2}{\\left(t \\right)} - \\omega r \\sin{\\left(\\omega t - \\phi_{2}{\\left(t \\right)} \\right)} \\frac{d}{d t} \\operatorname{l_{2}}{\\left(t \\right)} + \\operatorname{l_{1}}{\\left(t \\right)} \\operatorname{l_{2}}{\\left(t \\right)} \\sin{\\left(\\phi_{1}{\\left(t \\right)} - \\phi_{2}{\\left(t \\right)} \\right)} \\frac{d}{d t} \\phi_{1}{\\left(t \\right)} \\frac{d}{d t} \\phi_{2}{\\left(t \\right)} + \\operatorname{l_{1}}{\\left(t \\right)} \\cos{\\left(\\phi_{1}{\\left(t \\right)} - \\phi_{2}{\\left(t \\right)} \\right)} \\frac{d}{d t} \\operatorname{l_{2}}{\\left(t \\right)} \\frac{d}{d t} \\phi_{1}{\\left(t \\right)} - \\operatorname{l_{2}}{\\left(t \\right)} \\cos{\\left(\\phi_{1}{\\left(t \\right)} - \\phi_{2}{\\left(t \\right)} \\right)} \\frac{d}{d t} \\operatorname{l_{1}}{\\left(t \\right)} \\frac{d}{d t} \\phi_{2}{\\left(t \\right)} + \\sin{\\left(\\phi_{1}{\\left(t \\right)} - \\phi_{2}{\\left(t \\right)} \\right)} \\frac{d}{d t} \\operatorname{l_{1}}{\\left(t \\right)} \\frac{d}{d t} \\operatorname{l_{2}}{\\left(t \\right)}\\right) = - \\left(u_{1} \\left(\\omega r \\sin{\\left(\\omega t - \\phi_{1}{\\left(t \\right)} \\right)} - \\operatorname{l_{1}}{\\left(t \\right)} \\frac{d}{d t} \\phi_{1}{\\left(t \\right)}\\right) + u_{2} \\left(\\omega r \\sin{\\left(\\omega t - \\phi_{1}{\\left(t \\right)} \\right)} - \\operatorname{l_{1}}{\\left(t \\right)} \\frac{d}{d t} \\phi_{1}{\\left(t \\right)} - \\operatorname{l_{2}}{\\left(t \\right)} \\cos{\\left(\\phi_{1}{\\left(t \\right)} - \\phi_{2}{\\left(t \\right)} \\right)} \\frac{d}{d t} \\phi_{2}{\\left(t \\right)} + \\sin{\\left(\\phi_{1}{\\left(t \\right)} - \\phi_{2}{\\left(t \\right)} \\right)} \\frac{d}{d t} \\operatorname{l_{2}}{\\left(t \\right)}\\right)\\right) \\frac{d}{d t} \\operatorname{l_{1}}{\\left(t \\right)} + \\left(u_{1} \\left(- \\omega r \\left(\\omega - \\frac{d}{d t} \\phi_{1}{\\left(t \\right)}\\right) \\cos{\\left(\\omega t - \\phi_{1}{\\left(t \\right)} \\right)} + \\operatorname{l_{1}}{\\left(t \\right)} \\frac{d^{2}}{d t^{2}} \\phi_{1}{\\left(t \\right)} + \\frac{d}{d t} \\operatorname{l_{1}}{\\left(t \\right)} \\frac{d}{d t} \\phi_{1}{\\left(t \\right)}\\right) - u_{2} \\left(\\omega r \\left(\\omega - \\frac{d}{d t} \\phi_{1}{\\left(t \\right)}\\right) \\cos{\\left(\\omega t - \\phi_{1}{\\left(t \\right)} \\right)} + \\left(\\frac{d}{d t} \\phi_{1}{\\left(t \\right)} - \\frac{d}{d t} \\phi_{2}{\\left(t \\right)}\\right) \\operatorname{l_{2}}{\\left(t \\right)} \\sin{\\left(\\phi_{1}{\\left(t \\right)} - \\phi_{2}{\\left(t \\right)} \\right)} \\frac{d}{d t} \\phi_{2}{\\left(t \\right)} + \\left(\\frac{d}{d t} \\phi_{1}{\\left(t \\right)} - \\frac{d}{d t} \\phi_{2}{\\left(t \\right)}\\right) \\cos{\\left(\\phi_{1}{\\left(t \\right)} - \\phi_{2}{\\left(t \\right)} \\right)} \\frac{d}{d t} \\operatorname{l_{2}}{\\left(t \\right)} - \\operatorname{l_{1}}{\\left(t \\right)} \\frac{d^{2}}{d t^{2}} \\phi_{1}{\\left(t \\right)} - \\operatorname{l_{2}}{\\left(t \\right)} \\cos{\\left(\\phi_{1}{\\left(t \\right)} - \\phi_{2}{\\left(t \\right)} \\right)} \\frac{d^{2}}{d t^{2}} \\phi_{2}{\\left(t \\right)} + \\sin{\\left(\\phi_{1}{\\left(t \\right)} - \\phi_{2}{\\left(t \\right)} \\right)} \\frac{d^{2}}{d t^{2}} \\operatorname{l_{2}}{\\left(t \\right)} - \\cos{\\left(\\phi_{1}{\\left(t \\right)} - \\phi_{2}{\\left(t \\right)} \\right)} \\frac{d}{d t} \\operatorname{l_{2}}{\\left(t \\right)} \\frac{d}{d t} \\phi_{2}{\\left(t \\right)} - \\frac{d}{d t} \\operatorname{l_{1}}{\\left(t \\right)} \\frac{d}{d t} \\phi_{1}{\\left(t \\right)}\\right)\\right) \\operatorname{l_{1}}{\\left(t \\right)}$"
          },
          "metadata": {},
          "execution_count": 85
        }
      ]
    },
    {
      "cell_type": "markdown",
      "source": [
        "# trying to solve stuff"
      ],
      "metadata": {
        "id": "YCkpyhwws25g"
      }
    },
    {
      "cell_type": "code",
      "source": [
        "eqs = [motionl1, motionl2, motionl1, motionphi2]"
      ],
      "metadata": {
        "id": "uw_7Hcjgs4Z6"
      },
      "execution_count": 98,
      "outputs": []
    },
    {
      "cell_type": "code",
      "source": [
        "from sympy.solvers.ode.systems import dsolve_system"
      ],
      "metadata": {
        "id": "9F6ozHhAtSyp"
      },
      "execution_count": 88,
      "outputs": []
    }
  ]
}